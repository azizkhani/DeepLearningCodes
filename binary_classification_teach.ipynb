{
  "nbformat": 4,
  "nbformat_minor": 0,
  "metadata": {
    "kernelspec": {
      "display_name": "Python 3",
      "language": "python",
      "name": "python3"
    },
    "language_info": {
      "codemirror_mode": {
        "name": "ipython",
        "version": 3
      },
      "file_extension": ".py",
      "mimetype": "text/x-python",
      "name": "python",
      "nbconvert_exporter": "python",
      "pygments_lexer": "ipython3",
      "version": "3.7.4"
    },
    "colab": {
      "name": "binary_classification_teach.ipynb",
      "provenance": [],
      "include_colab_link": true
    }
  },
  "cells": [
    {
      "cell_type": "markdown",
      "metadata": {
        "id": "view-in-github",
        "colab_type": "text"
      },
      "source": [
        "<a href=\"https://colab.research.google.com/github/azizkhani/DeepLearningCodes/blob/master/binary_classification_teach.ipynb\" target=\"_parent\"><img src=\"https://colab.research.google.com/assets/colab-badge.svg\" alt=\"Open In Colab\"/></a>"
      ]
    },
    {
      "cell_type": "code",
      "metadata": {
        "id": "dI643-g35kuq",
        "colab_type": "code",
        "colab": {}
      },
      "source": [
        ""
      ],
      "execution_count": 0,
      "outputs": []
    },
    {
      "cell_type": "code",
      "metadata": {
        "id": "FO1UFTm_5oT5",
        "colab_type": "code",
        "colab": {
          "base_uri": "https://localhost:8080/",
          "height": 1000
        },
        "outputId": "a3405488-c599-4782-90ae-6e1d591ec594"
      },
      "source": [
        "!pip install tensorflow==2.0.0"
      ],
      "execution_count": 48,
      "outputs": [
        {
          "output_type": "stream",
          "text": [
            "Collecting tensorflow==2.0.0\n",
            "\u001b[?25l  Downloading https://files.pythonhosted.org/packages/46/0f/7bd55361168bb32796b360ad15a25de6966c9c1beb58a8e30c01c8279862/tensorflow-2.0.0-cp36-cp36m-manylinux2010_x86_64.whl (86.3MB)\n",
            "\u001b[K     |████████████████████████████████| 86.3MB 85kB/s \n",
            "\u001b[?25hRequirement already satisfied: wrapt>=1.11.1 in /usr/local/lib/python3.6/dist-packages (from tensorflow==2.0.0) (1.11.2)\n",
            "Requirement already satisfied: keras-applications>=1.0.8 in /usr/local/lib/python3.6/dist-packages (from tensorflow==2.0.0) (1.0.8)\n",
            "Requirement already satisfied: google-pasta>=0.1.6 in /usr/local/lib/python3.6/dist-packages (from tensorflow==2.0.0) (0.1.8)\n",
            "Collecting tensorboard<2.1.0,>=2.0.0\n",
            "\u001b[?25l  Downloading https://files.pythonhosted.org/packages/76/54/99b9d5d52d5cb732f099baaaf7740403e83fe6b0cedde940fabd2b13d75a/tensorboard-2.0.2-py3-none-any.whl (3.8MB)\n",
            "\u001b[K     |████████████████████████████████| 3.8MB 36.6MB/s \n",
            "\u001b[?25hRequirement already satisfied: termcolor>=1.1.0 in /usr/local/lib/python3.6/dist-packages (from tensorflow==2.0.0) (1.1.0)\n",
            "Requirement already satisfied: absl-py>=0.7.0 in /usr/local/lib/python3.6/dist-packages (from tensorflow==2.0.0) (0.9.0)\n",
            "Requirement already satisfied: gast==0.2.2 in /usr/local/lib/python3.6/dist-packages (from tensorflow==2.0.0) (0.2.2)\n",
            "Requirement already satisfied: wheel>=0.26 in /usr/local/lib/python3.6/dist-packages (from tensorflow==2.0.0) (0.33.6)\n",
            "Requirement already satisfied: numpy<2.0,>=1.16.0 in /usr/local/lib/python3.6/dist-packages (from tensorflow==2.0.0) (1.17.5)\n",
            "Requirement already satisfied: protobuf>=3.6.1 in /usr/local/lib/python3.6/dist-packages (from tensorflow==2.0.0) (3.10.0)\n",
            "Requirement already satisfied: astor>=0.6.0 in /usr/local/lib/python3.6/dist-packages (from tensorflow==2.0.0) (0.8.1)\n",
            "Requirement already satisfied: grpcio>=1.8.6 in /usr/local/lib/python3.6/dist-packages (from tensorflow==2.0.0) (1.15.0)\n",
            "Requirement already satisfied: six>=1.10.0 in /usr/local/lib/python3.6/dist-packages (from tensorflow==2.0.0) (1.12.0)\n",
            "Collecting tensorflow-estimator<2.1.0,>=2.0.0\n",
            "\u001b[?25l  Downloading https://files.pythonhosted.org/packages/fc/08/8b927337b7019c374719145d1dceba21a8bb909b93b1ad6f8fb7d22c1ca1/tensorflow_estimator-2.0.1-py2.py3-none-any.whl (449kB)\n",
            "\u001b[K     |████████████████████████████████| 450kB 51.5MB/s \n",
            "\u001b[?25hRequirement already satisfied: opt-einsum>=2.3.2 in /usr/local/lib/python3.6/dist-packages (from tensorflow==2.0.0) (3.1.0)\n",
            "Requirement already satisfied: keras-preprocessing>=1.0.5 in /usr/local/lib/python3.6/dist-packages (from tensorflow==2.0.0) (1.1.0)\n",
            "Requirement already satisfied: h5py in /usr/local/lib/python3.6/dist-packages (from keras-applications>=1.0.8->tensorflow==2.0.0) (2.8.0)\n",
            "Requirement already satisfied: werkzeug>=0.11.15 in /usr/local/lib/python3.6/dist-packages (from tensorboard<2.1.0,>=2.0.0->tensorflow==2.0.0) (0.16.0)\n",
            "Requirement already satisfied: google-auth-oauthlib<0.5,>=0.4.1 in /usr/local/lib/python3.6/dist-packages (from tensorboard<2.1.0,>=2.0.0->tensorflow==2.0.0) (0.4.1)\n",
            "Collecting google-auth<2,>=1.6.3\n",
            "\u001b[?25l  Downloading https://files.pythonhosted.org/packages/8d/5f/a1a02695b96d0e09c38abf7d1576b137979cea3d060d60891622cf61276d/google_auth-1.10.1-py2.py3-none-any.whl (76kB)\n",
            "\u001b[K     |████████████████████████████████| 81kB 10.1MB/s \n",
            "\u001b[?25hRequirement already satisfied: markdown>=2.6.8 in /usr/local/lib/python3.6/dist-packages (from tensorboard<2.1.0,>=2.0.0->tensorflow==2.0.0) (3.1.1)\n",
            "Requirement already satisfied: setuptools>=41.0.0 in /usr/local/lib/python3.6/dist-packages (from tensorboard<2.1.0,>=2.0.0->tensorflow==2.0.0) (42.0.2)\n",
            "Requirement already satisfied: requests<3,>=2.21.0 in /usr/local/lib/python3.6/dist-packages (from tensorboard<2.1.0,>=2.0.0->tensorflow==2.0.0) (2.21.0)\n",
            "Requirement already satisfied: requests-oauthlib>=0.7.0 in /usr/local/lib/python3.6/dist-packages (from google-auth-oauthlib<0.5,>=0.4.1->tensorboard<2.1.0,>=2.0.0->tensorflow==2.0.0) (1.3.0)\n",
            "Requirement already satisfied: pyasn1-modules>=0.2.1 in /usr/local/lib/python3.6/dist-packages (from google-auth<2,>=1.6.3->tensorboard<2.1.0,>=2.0.0->tensorflow==2.0.0) (0.2.7)\n",
            "Requirement already satisfied: cachetools<5.0,>=2.0.0 in /usr/local/lib/python3.6/dist-packages (from google-auth<2,>=1.6.3->tensorboard<2.1.0,>=2.0.0->tensorflow==2.0.0) (4.0.0)\n",
            "Requirement already satisfied: rsa<4.1,>=3.1.4 in /usr/local/lib/python3.6/dist-packages (from google-auth<2,>=1.6.3->tensorboard<2.1.0,>=2.0.0->tensorflow==2.0.0) (4.0)\n",
            "Requirement already satisfied: chardet<3.1.0,>=3.0.2 in /usr/local/lib/python3.6/dist-packages (from requests<3,>=2.21.0->tensorboard<2.1.0,>=2.0.0->tensorflow==2.0.0) (3.0.4)\n",
            "Requirement already satisfied: urllib3<1.25,>=1.21.1 in /usr/local/lib/python3.6/dist-packages (from requests<3,>=2.21.0->tensorboard<2.1.0,>=2.0.0->tensorflow==2.0.0) (1.24.3)\n",
            "Requirement already satisfied: idna<2.9,>=2.5 in /usr/local/lib/python3.6/dist-packages (from requests<3,>=2.21.0->tensorboard<2.1.0,>=2.0.0->tensorflow==2.0.0) (2.8)\n",
            "Requirement already satisfied: certifi>=2017.4.17 in /usr/local/lib/python3.6/dist-packages (from requests<3,>=2.21.0->tensorboard<2.1.0,>=2.0.0->tensorflow==2.0.0) (2019.11.28)\n",
            "Requirement already satisfied: oauthlib>=3.0.0 in /usr/local/lib/python3.6/dist-packages (from requests-oauthlib>=0.7.0->google-auth-oauthlib<0.5,>=0.4.1->tensorboard<2.1.0,>=2.0.0->tensorflow==2.0.0) (3.1.0)\n",
            "Requirement already satisfied: pyasn1<0.5.0,>=0.4.6 in /usr/local/lib/python3.6/dist-packages (from pyasn1-modules>=0.2.1->google-auth<2,>=1.6.3->tensorboard<2.1.0,>=2.0.0->tensorflow==2.0.0) (0.4.8)\n",
            "\u001b[31mERROR: tensorboard 2.0.2 has requirement grpcio>=1.24.3, but you'll have grpcio 1.15.0 which is incompatible.\u001b[0m\n",
            "\u001b[31mERROR: google-colab 1.0.0 has requirement google-auth~=1.4.0, but you'll have google-auth 1.10.1 which is incompatible.\u001b[0m\n",
            "Installing collected packages: google-auth, tensorboard, tensorflow-estimator, tensorflow\n",
            "  Found existing installation: google-auth 1.4.2\n",
            "    Uninstalling google-auth-1.4.2:\n",
            "      Successfully uninstalled google-auth-1.4.2\n",
            "  Found existing installation: tensorboard 1.15.0\n",
            "    Uninstalling tensorboard-1.15.0:\n",
            "      Successfully uninstalled tensorboard-1.15.0\n",
            "  Found existing installation: tensorflow-estimator 1.15.1\n",
            "    Uninstalling tensorflow-estimator-1.15.1:\n",
            "      Successfully uninstalled tensorflow-estimator-1.15.1\n",
            "  Found existing installation: tensorflow 1.15.0\n",
            "    Uninstalling tensorflow-1.15.0:\n",
            "      Successfully uninstalled tensorflow-1.15.0\n",
            "Successfully installed google-auth-1.10.1 tensorboard-2.0.2 tensorflow-2.0.0 tensorflow-estimator-2.0.1\n"
          ],
          "name": "stdout"
        },
        {
          "output_type": "display_data",
          "data": {
            "application/vnd.colab-display-data+json": {
              "pip_warning": {
                "packages": [
                  "google",
                  "tensorboard",
                  "tensorflow",
                  "tensorflow_core",
                  "tensorflow_estimator"
                ]
              }
            }
          },
          "metadata": {
            "tags": []
          }
        }
      ]
    },
    {
      "cell_type": "code",
      "metadata": {
        "id": "jYP-Nt7cbGUC",
        "colab_type": "code",
        "colab": {}
      },
      "source": [
        "import numpy as np\n",
        "import matplotlib.pyplot as plt\n",
        "from sklearn import datasets\n",
        "from sklearn.model_selection import train_test_split\n",
        "\n",
        "import tensorflow as tf"
      ],
      "execution_count": 0,
      "outputs": []
    },
    {
      "cell_type": "code",
      "metadata": {
        "id": "kSaOfHZVbGUJ",
        "colab_type": "code",
        "colab": {
          "base_uri": "https://localhost:8080/",
          "height": 51
        },
        "outputId": "0a6d9398-a95e-4dd2-999d-5dc4c80f4b55"
      },
      "source": [
        "m = 200\n",
        "x, y = datasets.make_classification(n_samples=m,\n",
        "                                    n_features=2,\n",
        "                                    n_informative=2,\n",
        "                                    n_redundant=0,\n",
        "                                    n_repeated=0,\n",
        "                                    n_classes=2,\n",
        "                                    n_clusters_per_class=1,\n",
        "                                    random_state=100)\n",
        "y = y.reshape(-1, 1)\n",
        "print('x.shape: ', x.shape)\n",
        "print('y.shape: ', y.shape)"
      ],
      "execution_count": 3,
      "outputs": [
        {
          "output_type": "stream",
          "text": [
            "x.shape:  (200, 2)\n",
            "y.shape:  (200, 1)\n"
          ],
          "name": "stdout"
        }
      ]
    },
    {
      "cell_type": "code",
      "metadata": {
        "id": "ywCEMPkMbGUO",
        "colab_type": "code",
        "colab": {
          "base_uri": "https://localhost:8080/",
          "height": 164
        },
        "outputId": "d08fe636-2172-465a-c22b-ee6037ad3b90"
      },
      "source": [
        "x_train.dtype"
      ],
      "execution_count": 4,
      "outputs": [
        {
          "output_type": "error",
          "ename": "NameError",
          "evalue": "ignored",
          "traceback": [
            "\u001b[0;31m---------------------------------------------------------------------------\u001b[0m",
            "\u001b[0;31mNameError\u001b[0m                                 Traceback (most recent call last)",
            "\u001b[0;32m<ipython-input-4-d24ea32ca06d>\u001b[0m in \u001b[0;36m<module>\u001b[0;34m()\u001b[0m\n\u001b[0;32m----> 1\u001b[0;31m \u001b[0mx_train\u001b[0m\u001b[0;34m.\u001b[0m\u001b[0mdtype\u001b[0m\u001b[0;34m\u001b[0m\u001b[0;34m\u001b[0m\u001b[0m\n\u001b[0m",
            "\u001b[0;31mNameError\u001b[0m: name 'x_train' is not defined"
          ]
        }
      ]
    },
    {
      "cell_type": "code",
      "metadata": {
        "id": "db_pKmh-bGUQ",
        "colab_type": "code",
        "colab": {
          "base_uri": "https://localhost:8080/",
          "height": 51
        },
        "outputId": "6da79f4f-929a-4c26-e0ea-5fc4a10e6345"
      },
      "source": [
        "x_train, x_test, y_train, y_test = train_test_split(x, y, test_size = 0.25)\n",
        "print('x_train.shape: ', x_train.shape, 'y_train.shape: ', y_train.shape)\n",
        "print('x_test.shape: ', x_test.shape, 'y_test.shape: ', y_test.shape)"
      ],
      "execution_count": 5,
      "outputs": [
        {
          "output_type": "stream",
          "text": [
            "x_train.shape:  (150, 2) y_train.shape:  (150, 1)\n",
            "x_test.shape:  (50, 2) y_test.shape:  (50, 1)\n"
          ],
          "name": "stdout"
        }
      ]
    },
    {
      "cell_type": "code",
      "metadata": {
        "id": "xYWPs3GubGUT",
        "colab_type": "code",
        "colab": {
          "base_uri": "https://localhost:8080/",
          "height": 267
        },
        "outputId": "6667d0d5-4481-4317-8372-bedfb359d1b4"
      },
      "source": [
        "plt.scatter(x_train[:,0], x_train[:,1], c=y_train.reshape(-1), marker='o', label='train');\n",
        "plt.scatter(x_test[:,0], x_test[:,1], c=y_test.reshape(-1), marker='*', label='test');\n",
        "plt.legend();"
      ],
      "execution_count": 6,
      "outputs": [
        {
          "output_type": "display_data",
          "data": {
            "image/png": "[encoded data removed]",
            "text/plain": [
              "<Figure size 432x288 with 1 Axes>"
            ]
          },
          "metadata": {
            "tags": []
          }
        }
      ]
    },
    {
      "cell_type": "markdown",
      "metadata": {
        "id": "dpe4OWV8bGUZ",
        "colab_type": "text"
      },
      "source": [
        "### Hyper-paramters"
      ]
    },
    {
      "cell_type": "code",
      "metadata": {
        "id": "ee0k4h6bbGUa",
        "colab_type": "code",
        "colab": {}
      },
      "source": [
        "n_inputs = x_train.shape[1]\n",
        "m = x_train.shape[0]\n",
        "n_outputs = 1\n",
        "lr = 0.01\n",
        "epochs = 500"
      ],
      "execution_count": 0,
      "outputs": []
    },
    {
      "cell_type": "markdown",
      "metadata": {
        "id": "hiTazivXbGUc",
        "colab_type": "text"
      },
      "source": [
        "### Defining Variables"
      ]
    },
    {
      "cell_type": "code",
      "metadata": {
        "id": "-oueSPUobGUd",
        "colab_type": "code",
        "colab": {
          "base_uri": "https://localhost:8080/",
          "height": 51
        },
        "outputId": "a4900f73-6ae1-47fb-a694-1a648eddf08d"
      },
      "source": [
        "w = tf.Variable(tf.zeros(shape=(2, 1), dtype=tf.float64), dtype=tf.float64)\n",
        "b = tf.Variable(0, dtype=tf.float64)\n",
        "print(\"w.shape: \",w.shape)\n",
        "print(\"b.shape: \",b.shape)"
      ],
      "execution_count": 8,
      "outputs": [
        {
          "output_type": "stream",
          "text": [
            "w.shape:  (2, 1)\n",
            "b.shape:  ()\n"
          ],
          "name": "stdout"
        }
      ]
    },
    {
      "cell_type": "code",
      "metadata": {
        "id": "FuvuYSL_bGUg",
        "colab_type": "code",
        "colab": {}
      },
      "source": [
        "def model(x):\n",
        "    z = tf.matmul(x, w) + b \n",
        "    y_pred = tf.sigmoid(z)\n",
        "    return y_pred"
      ],
      "execution_count": 0,
      "outputs": []
    },
    {
      "cell_type": "code",
      "metadata": {
        "id": "A8dpG_z5bGUj",
        "colab_type": "code",
        "colab": {
          "base_uri": "https://localhost:8080/",
          "height": 119
        },
        "outputId": "2cde30d8-8f19-4898-ec64-1169aad7cc81"
      },
      "source": [
        "y_pred = model(x_train)\n",
        "y_pred[:5]"
      ],
      "execution_count": 10,
      "outputs": [
        {
          "output_type": "execute_result",
          "data": {
            "text/plain": [
              "<tf.Tensor: id=26, shape=(5, 1), dtype=float64, numpy=\n",
              "array([[0.5],\n",
              "       [0.5],\n",
              "       [0.5],\n",
              "       [0.5],\n",
              "       [0.5]])>"
            ]
          },
          "metadata": {
            "tags": []
          },
          "execution_count": 10
        }
      ]
    },
    {
      "cell_type": "code",
      "metadata": {
        "id": "jIoCREZx5dsu",
        "colab_type": "code",
        "colab": {
          "base_uri": "https://localhost:8080/",
          "height": 34
        },
        "outputId": "46086559-8b16-46be-9772-37e2fe745f64"
      },
      "source": [
        "tf.__version__"
      ],
      "execution_count": 11,
      "outputs": [
        {
          "output_type": "execute_result",
          "data": {
            "text/plain": [
              "'2.0.0'"
            ]
          },
          "metadata": {
            "tags": []
          },
          "execution_count": 11
        }
      ]
    },
    {
      "cell_type": "code",
      "metadata": {
        "id": "t6w1VrUobGUm",
        "colab_type": "code",
        "colab": {}
      },
      "source": [
        "def loss(y_true, y_pred):\n",
        "    l = -(y_true * tf.math.log(y_pred) + (1- y_true) *\n",
        "          tf.math.log(1-y_pred))\n",
        "    return tf.reduce_mean(l)"
      ],
      "execution_count": 0,
      "outputs": []
    },
    {
      "cell_type": "code",
      "metadata": {
        "id": "sApWYmmCbGUp",
        "colab_type": "code",
        "colab": {
          "base_uri": "https://localhost:8080/",
          "height": 34
        },
        "outputId": "b7c59b9d-7e03-49aa-d40b-5b27760fcbf1"
      },
      "source": [
        "loss(y_train, y_pred)"
      ],
      "execution_count": 13,
      "outputs": [
        {
          "output_type": "execute_result",
          "data": {
            "text/plain": [
              "<tf.Tensor: id=38, shape=(), dtype=float64, numpy=0.6931471805599447>"
            ]
          },
          "metadata": {
            "tags": []
          },
          "execution_count": 13
        }
      ]
    },
    {
      "cell_type": "code",
      "metadata": {
        "id": "axnmPu1D7qcZ",
        "colab_type": "code",
        "colab": {}
      },
      "source": [
        "optimizer=tf.optimizers.Adam(learning_rate=lr)"
      ],
      "execution_count": 0,
      "outputs": []
    },
    {
      "cell_type": "code",
      "metadata": {
        "id": "hqI-jHHi-kBb",
        "colab_type": "code",
        "colab": {}
      },
      "source": [
        "def accuracy (y_pred,y_true)\n",
        "  y_pred=tf.round(y_pred)\n",
        "  compare=tf.equal(y_pred,y_true)\n",
        "  tf.math.count_nonzero(compare)\n",
        "  return "
      ],
      "execution_count": 0,
      "outputs": []
    },
    {
      "cell_type": "code",
      "metadata": {
        "id": "4dkJR-JNbGUr",
        "colab_type": "code",
        "colab": {}
      },
      "source": [
        "def gradient_descent(x_train, y_train):\n",
        "    with tf.GradientTape(persistent=True) as tape:\n",
        "        y_pred = model(x_train)\n",
        "        loss_v = loss(y_train, y_pred)\n",
        "    # dw = tape.gradient(loss_v, w)\n",
        "    # db = tape.gradient(loss_v, b)\n",
        "    # del tape\n",
        "    grads=tape.gradient(loss_v,[w,b])\n",
        "    optimizer.apply_gradients(zip(grads,[w,b]))\n",
        "    #w.assign_sub(lr * dw)\n",
        "    # b.assign(b - lr * db)\n",
        "    return w, b, loss_v"
      ],
      "execution_count": 0,
      "outputs": []
    },
    {
      "cell_type": "code",
      "metadata": {
        "id": "ex-xDUVvbGUt",
        "colab_type": "code",
        "colab": {
          "base_uri": "https://localhost:8080/",
          "height": 1000
        },
        "outputId": "0c891792-e734-459d-dc98-c5dee1f92686"
      },
      "source": [
        "for epoch in range(epochs):\n",
        "    w, b, loss_v  = gradient_descent(x_train, y_train)\n",
        "    print('epoch: ', epoch, 'loss: ', loss_v.numpy())"
      ],
      "execution_count": 22,
      "outputs": [
        {
          "output_type": "stream",
          "text": [
            "epoch:  0 loss:  0.12319955733419649\n",
            "epoch:  1 loss:  0.12299004988667782\n",
            "epoch:  2 loss:  0.1227809863095913\n",
            "epoch:  3 loss:  0.12257237454952974\n",
            "epoch:  4 loss:  0.12236422084636224\n",
            "epoch:  5 loss:  0.12215653043101862\n",
            "epoch:  6 loss:  0.12194930758365445\n",
            "epoch:  7 loss:  0.12174255558169365\n",
            "epoch:  8 loss:  0.1215362766245948\n",
            "epoch:  9 loss:  0.12133047176481722\n",
            "epoch:  10 loss:  0.12112514086320726\n",
            "epoch:  11 loss:  0.12092028258453685\n",
            "epoch:  12 loss:  0.12071589444756195\n",
            "epoch:  13 loss:  0.120511972941136\n",
            "epoch:  14 loss:  0.12030851371243625\n",
            "epoch:  15 loss:  0.12010551182498995\n",
            "epoch:  16 loss:  0.11990296207373137\n",
            "epoch:  17 loss:  0.1197008593336708\n",
            "epoch:  18 loss:  0.11949919891049471\n",
            "epoch:  19 loss:  0.11929797685801184\n",
            "epoch:  20 loss:  0.11909719023017037\n",
            "epoch:  21 loss:  0.1188968372440127\n",
            "epoch:  22 loss:  0.11869691734234039\n",
            "epoch:  23 loss:  0.11849743115805597\n",
            "epoch:  24 loss:  0.11829838039332567\n",
            "epoch:  25 loss:  0.11809976763409309\n",
            "epoch:  26 loss:  0.11790159612360453\n",
            "epoch:  27 loss:  0.11770386951810537\n",
            "epoch:  28 loss:  0.11750659164492049\n",
            "epoch:  29 loss:  0.11730976627897687\n",
            "epoch:  30 loss:  0.11711339694943554\n",
            "epoch:  31 loss:  0.11691748678405546\n",
            "epoch:  32 loss:  0.1167220383954495\n",
            "epoch:  33 loss:  0.11652705381050431\n",
            "epoch:  34 loss:  0.11633253444181764\n",
            "epoch:  35 loss:  0.11613848109791888\n",
            "epoch:  36 loss:  0.11594489402722402\n",
            "epoch:  37 loss:  0.11575177298913178\n",
            "epoch:  38 loss:  0.11555911734448725\n",
            "epoch:  39 loss:  0.11536692615694072\n",
            "epoch:  40 loss:  0.11517519829663884\n",
            "epoch:  41 loss:  0.11498393253825841\n",
            "epoch:  42 loss:  0.11479312764661319\n",
            "epoch:  43 loss:  0.11460278244480333\n",
            "epoch:  44 loss:  0.11441289586193527\n",
            "epoch:  45 loss:  0.1142234669595675\n",
            "epoch:  46 loss:  0.11403449493800541\n",
            "epoch:  47 loss:  0.11384597912516847\n",
            "epoch:  48 loss:  0.11365791895187975\n",
            "epoch:  49 loss:  0.11347031391802813\n",
            "epoch:  50 loss:  0.11328316355416033\n",
            "epoch:  51 loss:  0.11309646738274613\n",
            "epoch:  52 loss:  0.11291022488272927\n",
            "epoch:  53 loss:  0.11272443546013927\n",
            "epoch:  54 loss:  0.11253909842660008\n",
            "epoch:  55 loss:  0.11235421298662054\n",
            "epoch:  56 loss:  0.11216977823366792\n",
            "epoch:  57 loss:  0.1119857931542627\n",
            "epoch:  58 loss:  0.11180225663873912\n",
            "epoch:  59 loss:  0.11161916749691209\n",
            "epoch:  60 loss:  0.11143652447669257\n",
            "epoch:  61 loss:  0.11125432628369007\n",
            "epoch:  62 loss:  0.11107257160001545\n",
            "epoch:  63 loss:  0.11089125910080914\n",
            "epoch:  64 loss:  0.1107103874674335\n",
            "epoch:  65 loss:  0.11052995539672165\n",
            "epoch:  66 loss:  0.1103499616061315\n",
            "epoch:  67 loss:  0.11017040483506033\n",
            "epoch:  68 loss:  0.10999128384290238\n",
            "epoch:  69 loss:  0.10981259740465492\n",
            "epoch:  70 loss:  0.10963434430499357\n",
            "epoch:  71 loss:  0.10945652333174148\n",
            "epoch:  72 loss:  0.10927913326957255\n",
            "epoch:  73 loss:  0.10910217289463053\n",
            "epoch:  74 loss:  0.1089256409705433\n",
            "epoch:  75 loss:  0.10874953624609146\n",
            "epoch:  76 loss:  0.10857385745457587\n",
            "epoch:  77 loss:  0.10839860331474263\n",
            "epoch:  78 loss:  0.1082237725329795\n",
            "epoch:  79 loss:  0.10804936380640527\n",
            "epoch:  80 loss:  0.1078753758264346\n",
            "epoch:  81 loss:  0.10770180728241163\n",
            "epoch:  82 loss:  0.10752865686495738\n",
            "epoch:  83 loss:  0.10735592326875865\n",
            "epoch:  84 loss:  0.10718360519462532\n",
            "epoch:  85 loss:  0.10701170135074402\n",
            "epoch:  86 loss:  0.10684021045315324\n",
            "epoch:  87 loss:  0.10666913122553938\n",
            "epoch:  88 loss:  0.10649846239851127\n",
            "epoch:  89 loss:  0.1063282027085371\n",
            "epoch:  90 loss:  0.10615835089673523\n",
            "epoch:  91 loss:  0.10598890570769165\n",
            "epoch:  92 loss:  0.10581986588844515\n",
            "epoch:  93 loss:  0.10565123018773809\n",
            "epoch:  94 loss:  0.10548299735558364\n",
            "epoch:  95 loss:  0.10531516614315535\n",
            "epoch:  96 loss:  0.10514773530296778\n",
            "epoch:  97 loss:  0.10498070358928648\n",
            "epoch:  98 loss:  0.10481406975869084\n",
            "epoch:  99 loss:  0.10464783257070666\n",
            "epoch:  100 loss:  0.10448199078843054\n",
            "epoch:  101 loss:  0.1043165431790817\n",
            "epoch:  102 loss:  0.10415148851443519\n",
            "epoch:  103 loss:  0.103986825571111\n",
            "epoch:  104 loss:  0.1038225531307149\n",
            "epoch:  105 loss:  0.10365866997984309\n",
            "epoch:  106 loss:  0.10349517490997802\n",
            "epoch:  107 loss:  0.10333206671730898\n",
            "epoch:  108 loss:  0.10316934420251475\n",
            "epoch:  109 loss:  0.10300700617054377\n",
            "epoch:  110 loss:  0.10284505143042035\n",
            "epoch:  111 loss:  0.10268347879509801\n",
            "epoch:  112 loss:  0.10252228708137122\n",
            "epoch:  113 loss:  0.10236147510984711\n",
            "epoch:  114 loss:  0.10220104170497178\n",
            "epoch:  115 loss:  0.10204098569509869\n",
            "epoch:  116 loss:  0.1018813059125846\n",
            "epoch:  117 loss:  0.10172200119389577\n",
            "epoch:  118 loss:  0.10156307037971013\n",
            "epoch:  119 loss:  0.1014045123150024\n",
            "epoch:  120 loss:  0.10124632584910452\n",
            "epoch:  121 loss:  0.10108850983573654\n",
            "epoch:  122 loss:  0.10093106313300865\n",
            "epoch:  123 loss:  0.10077398460339744\n",
            "epoch:  124 loss:  0.10061727311370255\n",
            "epoch:  125 loss:  0.10046092753499103\n",
            "epoch:  126 loss:  0.10030494674253666\n",
            "epoch:  127 loss:  0.10014932961576102\n",
            "epoch:  128 loss:  0.09999407503818171\n",
            "epoch:  129 loss:  0.0998391818973712\n",
            "epoch:  130 loss:  0.09968464908492733\n",
            "epoch:  131 loss:  0.0995304754964558\n",
            "epoch:  132 loss:  0.09937666003156231\n",
            "epoch:  133 loss:  0.09922320159385188\n",
            "epoch:  134 loss:  0.09907009909093216\n",
            "epoch:  135 loss:  0.09891735143441782\n",
            "epoch:  136 loss:  0.09876495753993242\n",
            "epoch:  137 loss:  0.09861291632710747\n",
            "epoch:  138 loss:  0.09846122671957586\n",
            "epoch:  139 loss:  0.09830988764496026\n",
            "epoch:  140 loss:  0.09815889803485728\n",
            "epoch:  141 loss:  0.09800825682481723\n",
            "epoch:  142 loss:  0.09785796295432206\n",
            "epoch:  143 loss:  0.09770801536676225\n",
            "epoch:  144 loss:  0.09755841300941388\n",
            "epoch:  145 loss:  0.09740915483341711\n",
            "epoch:  146 loss:  0.09726023979375671\n",
            "epoch:  147 loss:  0.09711166684924498\n",
            "epoch:  148 loss:  0.09696343496250646\n",
            "epoch:  149 loss:  0.0968155430999648\n",
            "epoch:  150 loss:  0.0966679902318308\n",
            "epoch:  151 loss:  0.09652077533209087\n",
            "epoch:  152 loss:  0.09637389737849553\n",
            "epoch:  153 loss:  0.09622735535254737\n",
            "epoch:  154 loss:  0.09608114823948817\n",
            "epoch:  155 loss:  0.09593527502828478\n",
            "epoch:  156 loss:  0.09578973471161395\n",
            "epoch:  157 loss:  0.0956445262858462\n",
            "epoch:  158 loss:  0.09549964875102908\n",
            "epoch:  159 loss:  0.09535510111086966\n",
            "epoch:  160 loss:  0.09521088237271748\n",
            "epoch:  161 loss:  0.09506699154754715\n",
            "epoch:  162 loss:  0.09492342764994142\n",
            "epoch:  163 loss:  0.0947801896980752\n",
            "epoch:  164 loss:  0.09463727671369931\n",
            "epoch:  165 loss:  0.09449468772212576\n",
            "epoch:  166 loss:  0.09435242175221252\n",
            "epoch:  167 loss:  0.09421047783634928\n",
            "epoch:  168 loss:  0.09406885501044325\n",
            "epoch:  169 loss:  0.0939275523139048\n",
            "epoch:  170 loss:  0.09378656878963344\n",
            "epoch:  171 loss:  0.0936459034840037\n",
            "epoch:  172 loss:  0.09350555544685049\n",
            "epoch:  173 loss:  0.09336552373145506\n",
            "epoch:  174 loss:  0.0932258073945303\n",
            "epoch:  175 loss:  0.09308640549620631\n",
            "epoch:  176 loss:  0.09294731710001608\n",
            "epoch:  177 loss:  0.09280854127288081\n",
            "epoch:  178 loss:  0.09267007708509603\n",
            "epoch:  179 loss:  0.0925319236103173\n",
            "epoch:  180 loss:  0.09239407992554613\n",
            "epoch:  181 loss:  0.09225654511111649\n",
            "epoch:  182 loss:  0.09211931825068076\n",
            "epoch:  183 loss:  0.09198239843119625\n",
            "epoch:  184 loss:  0.09184578474291179\n",
            "epoch:  185 loss:  0.09170947627935395\n",
            "epoch:  186 loss:  0.09157347213731387\n",
            "epoch:  187 loss:  0.09143777141683358\n",
            "epoch:  188 loss:  0.09130237322119253\n",
            "epoch:  189 loss:  0.09116727665689432\n",
            "epoch:  190 loss:  0.09103248083365299\n",
            "epoch:  191 loss:  0.09089798486437979\n",
            "epoch:  192 loss:  0.09076378786516975\n",
            "epoch:  193 loss:  0.09062988895528833\n",
            "epoch:  194 loss:  0.09049628725715815\n",
            "epoch:  195 loss:  0.09036298189634592\n",
            "epoch:  196 loss:  0.09022997200154927\n",
            "epoch:  197 loss:  0.09009725670458368\n",
            "epoch:  198 loss:  0.08996483514036967\n",
            "epoch:  199 loss:  0.08983270644691999\n",
            "epoch:  200 loss:  0.08970086976532655\n",
            "epoch:  201 loss:  0.08956932423974816\n",
            "epoch:  202 loss:  0.08943806901739754\n",
            "epoch:  203 loss:  0.0893071032485289\n",
            "epoch:  204 loss:  0.08917642608642538\n",
            "epoch:  205 loss:  0.08904603668738664\n",
            "epoch:  206 loss:  0.08891593421071632\n",
            "epoch:  207 loss:  0.08878611781870989\n",
            "epoch:  208 loss:  0.08865658667664217\n",
            "epoch:  209 loss:  0.0885273399527553\n",
            "epoch:  210 loss:  0.0883983768182463\n",
            "epoch:  211 loss:  0.08826969644725526\n",
            "epoch:  212 loss:  0.08814129801685303\n",
            "epoch:  213 loss:  0.08801318070702942\n",
            "epoch:  214 loss:  0.0878853437006812\n",
            "epoch:  215 loss:  0.08775778618360008\n",
            "epoch:  216 loss:  0.08763050734446114\n",
            "epoch:  217 loss:  0.08750350637481069\n",
            "epoch:  218 loss:  0.08737678246905502\n",
            "epoch:  219 loss:  0.08725033482444819\n",
            "epoch:  220 loss:  0.0871241626410808\n",
            "epoch:  221 loss:  0.08699826512186817\n",
            "epoch:  222 loss:  0.08687264147253888\n",
            "epoch:  223 loss:  0.08674729090162335\n",
            "epoch:  224 loss:  0.0866222126204423\n",
            "epoch:  225 loss:  0.08649740584309541\n",
            "epoch:  226 loss:  0.08637286978645\n",
            "epoch:  227 loss:  0.08624860367012963\n",
            "epoch:  228 loss:  0.08612460671650317\n",
            "epoch:  229 loss:  0.08600087815067321\n",
            "epoch:  230 loss:  0.08587741720046538\n",
            "epoch:  231 loss:  0.08575422309641698\n",
            "epoch:  232 loss:  0.08563129507176598\n",
            "epoch:  233 loss:  0.0855086323624402\n",
            "epoch:  234 loss:  0.08538623420704629\n",
            "epoch:  235 loss:  0.08526409984685894\n",
            "epoch:  236 loss:  0.08514222852580997\n",
            "epoch:  237 loss:  0.08502061949047772\n",
            "epoch:  238 loss:  0.0848992719900761\n",
            "epoch:  239 loss:  0.08477818527644419\n",
            "epoch:  240 loss:  0.08465735860403546\n",
            "epoch:  241 loss:  0.0845367912299072\n",
            "epoch:  242 loss:  0.08441648241371011\n",
            "epoch:  243 loss:  0.08429643141767777\n",
            "epoch:  244 loss:  0.08417663750661615\n",
            "epoch:  245 loss:  0.08405709994789326\n",
            "epoch:  246 loss:  0.08393781801142902\n",
            "epoch:  247 loss:  0.08381879096968464\n",
            "epoch:  248 loss:  0.08370001809765262\n",
            "epoch:  249 loss:  0.08358149867284652\n",
            "epoch:  250 loss:  0.08346323197529067\n",
            "epoch:  251 loss:  0.08334521728751025\n",
            "epoch:  252 loss:  0.08322745389452109\n",
            "epoch:  253 loss:  0.08310994108381985\n",
            "epoch:  254 loss:  0.08299267814537377\n",
            "epoch:  255 loss:  0.08287566437161098\n",
            "epoch:  256 loss:  0.0827588990574105\n",
            "epoch:  257 loss:  0.0826423815000925\n",
            "epoch:  258 loss:  0.08252611099940832\n",
            "epoch:  259 loss:  0.082410086857531\n",
            "epoch:  260 loss:  0.08229430837904529\n",
            "epoch:  261 loss:  0.08217877487093826\n",
            "epoch:  262 loss:  0.08206348564258945\n",
            "epoch:  263 loss:  0.08194844000576139\n",
            "epoch:  264 loss:  0.08183363727459013\n",
            "epoch:  265 loss:  0.08171907676557566\n",
            "epoch:  266 loss:  0.08160475779757254\n",
            "epoch:  267 loss:  0.08149067969178041\n",
            "epoch:  268 loss:  0.08137684177173463\n",
            "epoch:  269 loss:  0.08126324336329717\n",
            "epoch:  270 loss:  0.08114988379464706\n",
            "epoch:  271 loss:  0.08103676239627122\n",
            "epoch:  272 loss:  0.08092387850095542\n",
            "epoch:  273 loss:  0.08081123144377497\n",
            "epoch:  274 loss:  0.08069882056208565\n",
            "epoch:  275 loss:  0.08058664519551459\n",
            "epoch:  276 loss:  0.08047470468595143\n",
            "epoch:  277 loss:  0.08036299837753903\n",
            "epoch:  278 loss:  0.08025152561666478\n",
            "epoch:  279 loss:  0.08014028575195153\n",
            "epoch:  280 loss:  0.08002927813424882\n",
            "epoch:  281 loss:  0.07991850211662391\n",
            "epoch:  282 loss:  0.07980795705435313\n",
            "epoch:  283 loss:  0.07969764230491314\n",
            "epoch:  284 loss:  0.07958755722797192\n",
            "epoch:  285 loss:  0.07947770118538054\n",
            "epoch:  286 loss:  0.0793680735411641\n",
            "epoch:  287 loss:  0.07925867366151347\n",
            "epoch:  288 loss:  0.0791495009147765\n",
            "epoch:  289 loss:  0.07904055467144949\n",
            "epoch:  290 loss:  0.07893183430416892\n",
            "epoch:  291 loss:  0.07882333918770272\n",
            "epoch:  292 loss:  0.0787150686989421\n",
            "epoch:  293 loss:  0.07860702221689297\n",
            "epoch:  294 loss:  0.07849919912266777\n",
            "epoch:  295 loss:  0.07839159879947706\n",
            "epoch:  296 loss:  0.07828422063262125\n",
            "epoch:  297 loss:  0.07817706400948243\n",
            "epoch:  298 loss:  0.07807012831951622\n",
            "epoch:  299 loss:  0.07796341295424336\n",
            "epoch:  300 loss:  0.077856917307242\n",
            "epoch:  301 loss:  0.0777506407741392\n",
            "epoch:  302 loss:  0.07764458275260319\n",
            "epoch:  303 loss:  0.07753874264233515\n",
            "epoch:  304 loss:  0.07743311984506135\n",
            "epoch:  305 loss:  0.07732771376452514\n",
            "epoch:  306 loss:  0.07722252380647911\n",
            "epoch:  307 loss:  0.07711754937867712\n",
            "epoch:  308 loss:  0.07701278989086652\n",
            "epoch:  309 loss:  0.07690824475478038\n",
            "epoch:  310 loss:  0.07680391338412955\n",
            "epoch:  311 loss:  0.07669979519459524\n",
            "epoch:  312 loss:  0.07659588960382098\n",
            "epoch:  313 loss:  0.07649219603140506\n",
            "epoch:  314 loss:  0.07638871389889304\n",
            "epoch:  315 loss:  0.07628544262976994\n",
            "epoch:  316 loss:  0.0761823816494528\n",
            "epoch:  317 loss:  0.07607953038528308\n",
            "epoch:  318 loss:  0.07597688826651919\n",
            "epoch:  319 loss:  0.07587445472432898\n",
            "epoch:  320 loss:  0.07577222919178234\n",
            "epoch:  321 loss:  0.07567021110384378\n",
            "epoch:  322 loss:  0.07556839989736508\n",
            "epoch:  323 loss:  0.07546679501107786\n",
            "epoch:  324 loss:  0.07536539588558641\n",
            "epoch:  325 loss:  0.07526420196336027\n",
            "epoch:  326 loss:  0.07516321268872707\n",
            "epoch:  327 loss:  0.0750624275078653\n",
            "epoch:  328 loss:  0.07496184586879709\n",
            "epoch:  329 loss:  0.07486146722138115\n",
            "epoch:  330 loss:  0.0747612910173055\n",
            "epoch:  331 loss:  0.07466131671008053\n",
            "epoch:  332 loss:  0.07456154375503189\n",
            "epoch:  333 loss:  0.07446197160929335\n",
            "epoch:  334 loss:  0.0743625997318\n",
            "epoch:  335 loss:  0.07426342758328111\n",
            "epoch:  336 loss:  0.07416445462625333\n",
            "epoch:  337 loss:  0.07406568032501365\n",
            "epoch:  338 loss:  0.07396710414563262\n",
            "epoch:  339 loss:  0.07386872555594746\n",
            "epoch:  340 loss:  0.07377054402555527\n",
            "epoch:  341 loss:  0.07367255902580618\n",
            "epoch:  342 loss:  0.0735747700297967\n",
            "epoch:  343 loss:  0.07347717651236284\n",
            "epoch:  344 loss:  0.07337977795007354\n",
            "epoch:  345 loss:  0.07328257382122395\n",
            "epoch:  346 loss:  0.07318556360582881\n",
            "epoch:  347 loss:  0.07308874678561574\n",
            "epoch:  348 loss:  0.07299212284401879\n",
            "epoch:  349 loss:  0.07289569126617176\n",
            "epoch:  350 loss:  0.07279945153890179\n",
            "epoch:  351 loss:  0.07270340315072277\n",
            "epoch:  352 loss:  0.07260754559182893\n",
            "epoch:  353 loss:  0.07251187835408826\n",
            "epoch:  354 loss:  0.07241640093103624\n",
            "epoch:  355 loss:  0.07232111281786947\n",
            "epoch:  356 loss:  0.07222601351143919\n",
            "epoch:  357 loss:  0.07213110251024492\n",
            "epoch:  358 loss:  0.07203637931442836\n",
            "epoch:  359 loss:  0.0719418434257669\n",
            "epoch:  360 loss:  0.07184749434766743\n",
            "epoch:  361 loss:  0.07175333158516015\n",
            "epoch:  362 loss:  0.07165935464489237\n",
            "epoch:  363 loss:  0.0715655630351223\n",
            "epoch:  364 loss:  0.07147195626571286\n",
            "epoch:  365 loss:  0.07137853384812565\n",
            "epoch:  366 loss:  0.07128529529541486\n",
            "epoch:  367 loss:  0.07119224012222115\n",
            "epoch:  368 loss:  0.07109936784476553\n",
            "epoch:  369 loss:  0.07100667798084359\n",
            "epoch:  370 loss:  0.07091417004981918\n",
            "epoch:  371 loss:  0.07082184357261875\n",
            "epoch:  372 loss:  0.07072969807172522\n",
            "epoch:  373 loss:  0.07063773307117217\n",
            "epoch:  374 loss:  0.07054594809653783\n",
            "epoch:  375 loss:  0.07045434267493934\n",
            "epoch:  376 loss:  0.07036291633502689\n",
            "epoch:  377 loss:  0.07027166860697784\n",
            "epoch:  378 loss:  0.07018059902249098\n",
            "epoch:  379 loss:  0.07008970711478073\n",
            "epoch:  380 loss:  0.06999899241857148\n",
            "epoch:  381 loss:  0.06990845447009182\n",
            "epoch:  382 loss:  0.06981809280706879\n",
            "epoch:  383 loss:  0.06972790696872234\n",
            "epoch:  384 loss:  0.0696378964957596\n",
            "epoch:  385 loss:  0.06954806093036928\n",
            "epoch:  386 loss:  0.06945839981621607\n",
            "epoch:  387 loss:  0.06936891269843513\n",
            "epoch:  388 loss:  0.06927959912362647\n",
            "epoch:  389 loss:  0.06919045863984934\n",
            "epoch:  390 loss:  0.06910149079661702\n",
            "epoch:  391 loss:  0.06901269514489107\n",
            "epoch:  392 loss:  0.06892407123707597\n",
            "epoch:  393 loss:  0.06883561862701372\n",
            "epoch:  394 loss:  0.06874733686997833\n",
            "epoch:  395 loss:  0.06865922552267063\n",
            "epoch:  396 loss:  0.06857128414321262\n",
            "epoch:  397 loss:  0.06848351229114245\n",
            "epoch:  398 loss:  0.06839590952740891\n",
            "epoch:  399 loss:  0.0683084754143661\n",
            "epoch:  400 loss:  0.06822120951576839\n",
            "epoch:  401 loss:  0.06813411139676485\n",
            "epoch:  402 loss:  0.06804718062389427\n",
            "epoch:  403 loss:  0.06796041676507995\n",
            "epoch:  404 loss:  0.06787381938962427\n",
            "epoch:  405 loss:  0.0677873880682039\n",
            "epoch:  406 loss:  0.06770112237286427\n",
            "epoch:  407 loss:  0.06761502187701482\n",
            "epoch:  408 loss:  0.06752908615542358\n",
            "epoch:  409 loss:  0.06744331478421241\n",
            "epoch:  410 loss:  0.06735770734085163\n",
            "epoch:  411 loss:  0.0672722634041552\n",
            "epoch:  412 loss:  0.0671869825542757\n",
            "epoch:  413 loss:  0.06710186437269924\n",
            "epoch:  414 loss:  0.06701690844224056\n",
            "epoch:  415 loss:  0.06693211434703804\n",
            "epoch:  416 loss:  0.06684748167254884\n",
            "epoch:  417 loss:  0.06676301000554392\n",
            "epoch:  418 loss:  0.06667869893410326\n",
            "epoch:  419 loss:  0.06659454804761081\n",
            "epoch:  420 loss:  0.06651055693674982\n",
            "epoch:  421 loss:  0.06642672519349802\n",
            "epoch:  422 loss:  0.06634305241112264\n",
            "epoch:  423 loss:  0.06625953818417578\n",
            "epoch:  424 loss:  0.06617618210848968\n",
            "epoch:  425 loss:  0.06609298378117176\n",
            "epoch:  426 loss:  0.06600994280060016\n",
            "epoch:  427 loss:  0.06592705876641884\n",
            "epoch:  428 loss:  0.06584433127953301\n",
            "epoch:  429 loss:  0.06576175994210445\n",
            "epoch:  430 loss:  0.06567934435754669\n",
            "epoch:  431 loss:  0.06559708413052072\n",
            "epoch:  432 loss:  0.06551497886693013\n",
            "epoch:  433 loss:  0.06543302817391652\n",
            "epoch:  434 loss:  0.06535123165985512\n",
            "epoch:  435 loss:  0.06526958893435003\n",
            "epoch:  436 loss:  0.06518809960822985\n",
            "epoch:  437 loss:  0.06510676329354301\n",
            "epoch:  438 loss:  0.06502557960355346\n",
            "epoch:  439 loss:  0.06494454815273606\n",
            "epoch:  440 loss:  0.0648636685567722\n",
            "epoch:  441 loss:  0.06478294043254532\n",
            "epoch:  442 loss:  0.06470236339813643\n",
            "epoch:  443 loss:  0.0646219370728199\n",
            "epoch:  444 loss:  0.06454166107705893\n",
            "epoch:  445 loss:  0.0644615350325012\n",
            "epoch:  446 loss:  0.06438155856197456\n",
            "epoch:  447 loss:  0.06430173128948265\n",
            "epoch:  448 loss:  0.0642220528402007\n",
            "epoch:  449 loss:  0.06414252284047114\n",
            "epoch:  450 loss:  0.06406314091779935\n",
            "epoch:  451 loss:  0.06398390670084939\n",
            "epoch:  452 loss:  0.06390481981943975\n",
            "epoch:  453 loss:  0.06382587990453929\n",
            "epoch:  454 loss:  0.06374708658826281\n",
            "epoch:  455 loss:  0.06366843950386696\n",
            "epoch:  456 loss:  0.06358993828574609\n",
            "epoch:  457 loss:  0.06351158256942813\n",
            "epoch:  458 loss:  0.06343337199157033\n",
            "epoch:  459 loss:  0.06335530618995526\n",
            "epoch:  460 loss:  0.06327738480348667\n",
            "epoch:  461 loss:  0.06319960747218546\n",
            "epoch:  462 loss:  0.06312197383718543\n",
            "epoch:  463 loss:  0.06304448354072952\n",
            "epoch:  464 loss:  0.06296713622616552\n",
            "epoch:  465 loss:  0.06288993153794219\n",
            "epoch:  466 loss:  0.06281286912160522\n",
            "epoch:  467 loss:  0.06273594862379327\n",
            "epoch:  468 loss:  0.06265916969223395\n",
            "epoch:  469 loss:  0.06258253197573992\n",
            "epoch:  470 loss:  0.06250603512420495\n",
            "epoch:  471 loss:  0.06242967878860005\n",
            "epoch:  472 loss:  0.06235346262096942\n",
            "epoch:  473 loss:  0.06227738627442669\n",
            "epoch:  474 loss:  0.06220144940315104\n",
            "epoch:  475 loss:  0.06212565166238328\n",
            "epoch:  476 loss:  0.06204999270842205\n",
            "epoch:  477 loss:  0.06197447219862012\n",
            "epoch:  478 loss:  0.06189908979138034\n",
            "epoch:  479 loss:  0.061823845146151996\n",
            "epoch:  480 loss:  0.06174873792342706\n",
            "epoch:  481 loss:  0.061673767784736364\n",
            "epoch:  482 loss:  0.06159893439264585\n",
            "epoch:  483 loss:  0.06152423741075288\n",
            "epoch:  484 loss:  0.06144967650368252\n",
            "epoch:  485 loss:  0.06137525133708385\n",
            "epoch:  486 loss:  0.061300961577626226\n",
            "epoch:  487 loss:  0.06122680689299563\n",
            "epoch:  488 loss:  0.061152786951891046\n",
            "epoch:  489 loss:  0.061078901424020816\n",
            "epoch:  490 loss:  0.06100514998009902\n",
            "epoch:  491 loss:  0.060931532291841804\n",
            "epoch:  492 loss:  0.06085804803196388\n",
            "epoch:  493 loss:  0.060784696874174905\n",
            "epoch:  494 loss:  0.06071147849317583\n",
            "epoch:  495 loss:  0.06063839256465555\n",
            "epoch:  496 loss:  0.06056543876528715\n",
            "epoch:  497 loss:  0.06049261677272454\n",
            "epoch:  498 loss:  0.060419926265598854\n",
            "epoch:  499 loss:  0.060347366923515\n"
          ],
          "name": "stdout"
        }
      ]
    },
    {
      "cell_type": "code",
      "metadata": {
        "id": "9x0rJs8rbGUv",
        "colab_type": "code",
        "colab": {}
      },
      "source": [
        "w1, w2 = w.numpy()"
      ],
      "execution_count": 0,
      "outputs": []
    },
    {
      "cell_type": "code",
      "metadata": {
        "id": "8D2OJ8CmbGUy",
        "colab_type": "code",
        "colab": {
          "base_uri": "https://localhost:8080/",
          "height": 267
        },
        "outputId": "9aa69198-a447-4df6-b642-619587efaf48"
      },
      "source": [
        "x1 = np.linspace(-2,2,500)\n",
        "x2 = -w1/w2*x1 - b/w2\n",
        "plt.figure()\n",
        "plt.scatter(x_train[:,0], x_train[:,1], c=y_train.reshape(-1), marker='o', label='train');\n",
        "plt.scatter(x_test[:,0], x_test[:,1], c=y_test.reshape(-1), marker='*', label='test');\n",
        "plt.legend();\n",
        "plt.plot(x1, x2);"
      ],
      "execution_count": 17,
      "outputs": [
        {
          "output_type": "display_data",
          "data": {
            "image/png": "[encoded data removed]",
            "text/plain": [
              "<Figure size 432x288 with 1 Axes>"
            ]
          },
          "metadata": {
            "tags": []
          }
        }
      ]
    },
    {
      "cell_type": "markdown",
      "metadata": {
        "id": "aspbzcwZbGU1",
        "colab_type": "text"
      },
      "source": [
        "*:)*"
      ]
    }
  ]
}